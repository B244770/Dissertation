{
 "cells": [
  {
   "cell_type": "code",
   "execution_count": null,
   "id": "626ebe4d",
   "metadata": {},
   "outputs": [],
   "source": [
    "import pandas as pd\n",
    "import numpy as np\n"
   ]
  },
  {
   "cell_type": "markdown",
   "id": "a3203ab6",
   "metadata": {},
   "source": [
    "### Devise Strategies\n",
    "\n",
    "**1** 1k environment with \n",
    "**2**  quickhaplo() alphasimr & fieldsimr too get gv_df\n",
    "    error_df\n",
    "    plot_offset\n",
    "    met_df 1\\2\\3\n"
   ]
  },
  {
   "cell_type": "code",
   "execution_count": null,
   "id": "3733b2a8",
   "metadata": {},
   "outputs": [],
   "source": []
  }
 ],
 "metadata": {
  "kernelspec": {
   "display_name": "Python 3 (ipykernel)",
   "language": "python",
   "name": "python3"
  },
  "language_info": {
   "codemirror_mode": {
    "name": "ipython",
    "version": 3
   },
   "file_extension": ".py",
   "mimetype": "text/x-python",
   "name": "python",
   "nbconvert_exporter": "python",
   "pygments_lexer": "ipython3",
   "version": "3.11.8"
  }
 },
 "nbformat": 4,
 "nbformat_minor": 5
}
